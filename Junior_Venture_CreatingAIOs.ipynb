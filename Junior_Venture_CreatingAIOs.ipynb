{
  "nbformat": 4,
  "nbformat_minor": 0,
  "metadata": {
    "colab": {
      "provenance": [],
      "authorship_tag": "ABX9TyOx4XYEvYniYK6gNRxR5XEF",
      "include_colab_link": true
    },
    "kernelspec": {
      "name": "python3",
      "display_name": "Python 3"
    },
    "language_info": {
      "name": "python"
    }
  },
  "cells": [
    {
      "cell_type": "markdown",
      "metadata": {
        "id": "view-in-github",
        "colab_type": "text"
      },
      "source": [
        "<a href=\"https://colab.research.google.com/github/LolaLS/My_Junior_Venture/blob/main/Junior_Venture_CreatingAIOs.ipynb\" target=\"_parent\"><img src=\"https://colab.research.google.com/assets/colab-badge.svg\" alt=\"Open In Colab\"/></a>"
      ]
    },
    {
      "cell_type": "markdown",
      "source": [
        "# **JUNIOR VENTURE PROJECT - Experimenting with AIOs**\n",
        "\n",
        "Project Notes:\n",
        "\n",
        "*   Data Conversion: Convert the tabular data to images by assigning each pixel a feature in the data. The value of each feature will be scaled down to a number between 0 and 1. The intensity of the pixel will be the value of the feature.\n",
        "*   Further Steps: Using this method, I can use CNNs and saliency maps which will imporve model accuracy and explainability.\n",
        "\n",
        "Updates:\n",
        "*   24/1/2024: Today I worked on setting up this new notebook for AIO experimentation."
      ],
      "metadata": {
        "id": "iuAz2BPZQq98"
      }
    },
    {
      "cell_type": "code",
      "execution_count": null,
      "metadata": {
        "id": "MBLKlYh6QXrF"
      },
      "outputs": [],
      "source": [
        "! pip install -q kaggle\n",
        "! pip install matplotlib\n",
        "from google.colab import files\n",
        "files.upload()\n",
        "! mkdir ~/.kaggle\n",
        "! cp kaggle.json ~/.kaggle/\n",
        "! chmod 600 ~/.kaggle/kaggle.json"
      ]
    },
    {
      "cell_type": "code",
      "source": [
        "! kaggle datasets download -d uciml/breast-cancer-wisconsin-data --force"
      ],
      "metadata": {
        "id": "KA4jetpRgNcv"
      },
      "execution_count": null,
      "outputs": []
    },
    {
      "cell_type": "code",
      "source": [
        "! unzip breast-cancer-wisconsin-data"
      ],
      "metadata": {
        "id": "uS4ke0YSgN_4"
      },
      "execution_count": null,
      "outputs": []
    },
    {
      "cell_type": "code",
      "source": [
        "# Junior_Venture_BCWisconsinDataset Imports\n",
        "import pandas as pd\n",
        "from sklearn.model_selection import train_test_split\n",
        "import seaborn as sns\n",
        "from sklearn.tree import DecisionTreeClassifier\n",
        "from sklearn.ensemble import RandomForestClassifier\n",
        "from sklearn.metrics import accuracy_score\n",
        "from sklearn.pipeline import Pipeline\n",
        "from sklearn.preprocessing import LabelEncoder\n",
        "from sklearn.compose import ColumnTransformer\n",
        "from sklearn.preprocessing import StandardScaler\n",
        "from sklearn.model_selection import cross_val_score\n",
        "import numpy as np\n",
        "from sklearn.model_selection import GridSearchCV\n",
        "from sklearn.metrics import make_scorer\n",
        "from tensorflow import keras\n",
        "from tensorflow.keras import layers\n",
        "from matplotlib import pyplot as plt\n",
        "\n",
        "# Junior_Venture_CreatingAIOs Imports\n",
        "import matplotlib.pyplot as plt"
      ],
      "metadata": {
        "id": "tSSS7sG1gfJT"
      },
      "execution_count": 4,
      "outputs": []
    },
    {
      "cell_type": "code",
      "source": [
        "import os\n",
        "if not os.path.exists(\"/content/breast-cancer-wisconsin-data.zip\"):\n",
        "    os.symlink(\"data.csv\")\n",
        "\n",
        "train_file_path = 'data.csv'\n",
        "bc_data = pd.read_csv(train_file_path)"
      ],
      "metadata": {
        "id": "jIU5VW0Jgi7d"
      },
      "execution_count": 5,
      "outputs": []
    },
    {
      "cell_type": "code",
      "source": [
        "# Pasted from Junior_Venture_BCWisconsinDataset. See project for code descriptions.\n",
        "\n",
        "missing_columns = [col for col in bc_data.columns if bc_data[col].isnull().any()]\n",
        "print(missing_columns)\n",
        "\n",
        "finding_cat_col = (bc_data.dtypes == 'object')\n",
        "categorical_columns = list(finding_cat_col[finding_cat_col].index)\n",
        "print(categorical_columns)\n",
        "\n",
        "label_encoder = LabelEncoder()\n",
        "label_columns = pd.DataFrame(label_encoder.fit_transform(bc_data[categorical_columns]), columns = ['diagnosis'])\n",
        "\n",
        "missing_y_bc_data = bc_data.drop(categorical_columns, axis = 1)\n",
        "encoded_y_bc_data = pd.concat([missing_y_bc_data, label_columns], axis=1)\n",
        "\n",
        "encoded_y_bc_data"
      ],
      "metadata": {
        "id": "rnT54rQDgl6G"
      },
      "execution_count": null,
      "outputs": []
    },
    {
      "cell_type": "code",
      "source": [
        "# Pasted from Junior_Venture_BCWisconsinDataset. See project for code descriptions.\n",
        "\n",
        "y = encoded_y_bc_data.diagnosis\n",
        "y = pd.DataFrame(y)\n",
        "\n",
        "bc_features = ['radius_mean', 'texture_mean', 'perimeter_mean',\n",
        "       'area_mean', 'smoothness_mean', 'compactness_mean', 'concavity_mean',\n",
        "       'concave points_mean', 'symmetry_mean', 'fractal_dimension_mean']\n",
        "x = bc_data[bc_features]"
      ],
      "metadata": {
        "id": "Ci5ZYutzhZsr"
      },
      "execution_count": 10,
      "outputs": []
    },
    {
      "cell_type": "code",
      "source": [
        "train_x, test_x, train_y, test_y = train_test_split(x, y, train_size = 0.8, test_size = 0.2, random_state = 0)\n",
        "print('Train Shape:', train_x.shape, train_y.shape)\n",
        "print('Test Shape:', test_x.shape, test_y.shape)"
      ],
      "metadata": {
        "id": "oKEWf-y_lsk9"
      },
      "execution_count": null,
      "outputs": []
    },
    {
      "cell_type": "code",
      "source": [
        "\"\"\"\n",
        "Useful Links:\n",
        "\n",
        "https://matplotlib.org/stable/api/_as_gen/matplotlib.pyplot.imshow.html\n",
        "https://stackoverflow.com/questions/76751100/ways-to-convert-tabular-data-csv-to-rgb-image\n",
        "https://www.geeksforgeeks.org/matplotlib-pyplot-imshow-in-python/\n",
        "\"\"\""
      ],
      "metadata": {
        "id": "iPKuXAbtnZsf"
      },
      "execution_count": null,
      "outputs": []
    }
  ]
}